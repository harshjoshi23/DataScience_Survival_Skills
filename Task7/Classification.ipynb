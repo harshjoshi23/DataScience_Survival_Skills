{
 "cells": [
  {
   "cell_type": "code",
   "execution_count": 6,
   "id": "f0aa264b-5c50-4e84-95d5-1231d5765d7f",
   "metadata": {},
   "outputs": [],
   "source": [
    "import pandas as pd\n",
    "import numpy as np \n",
    "import matplotlib.pyplot as plt\n"
   ]
  },
  {
   "cell_type": "code",
   "execution_count": 7,
   "id": "029a0841-993a-4756-914e-bd6b87317845",
   "metadata": {},
   "outputs": [],
   "source": [
    "# Loading all the ds : \n",
    "regression1 = pd.read_csv('regression_1.csv')\n",
    "regression2 = pd.read_csv('regression_2.csv')\n",
    "classification = pd.read_csv('classification.csv')\n"
   ]
  },
  {
   "cell_type": "code",
   "execution_count": 12,
   "id": "466d3aa7-f437-4ad6-814a-28c197c09258",
   "metadata": {},
   "outputs": [
    {
     "data": {
      "text/plain": [
       "(    x1        x2\n",
       " 0  0.0 -0.674904\n",
       " 1  0.1 -0.479806\n",
       " 2  0.2 -0.806082\n",
       " 3  0.3  0.053077\n",
       " 4  0.4 -0.393342,\n",
       "              x1         x2\n",
       " count  63.00000  63.000000\n",
       " mean    3.10000  -0.016079\n",
       " std     1.83303   1.167700\n",
       " min     0.00000  -2.112807\n",
       " 25%     1.55000  -0.868252\n",
       " 50%     3.10000  -0.043282\n",
       " 75%     4.65000   0.865807\n",
       " max     6.20000   2.281413)"
      ]
     },
     "execution_count": 12,
     "metadata": {},
     "output_type": "execute_result"
    }
   ],
   "source": [
    "regression1.head(5), regression1.describe()\n"
   ]
  },
  {
   "cell_type": "code",
   "execution_count": 15,
   "id": "e40692d5-07db-41f7-9cba-72d93812fce8",
   "metadata": {},
   "outputs": [
    {
     "data": {
      "text/plain": [
       "(     x1        x2\n",
       " 0 -10.0  0.070295\n",
       " 1  -9.0 -0.045762\n",
       " 2  -8.0  0.044281\n",
       " 3  -7.0 -0.012570\n",
       " 4  -6.0  0.208319,\n",
       "              x1         x2\n",
       " count  20.00000  20.000000\n",
       " mean   -0.50000   0.416417\n",
       " std     5.91608   0.459139\n",
       " min   -10.00000  -0.081131\n",
       " 25%    -5.25000   0.031717\n",
       " 50%    -0.50000   0.196542\n",
       " 75%     4.25000   0.900379\n",
       " max     9.00000   1.124983)"
      ]
     },
     "execution_count": 15,
     "metadata": {},
     "output_type": "execute_result"
    }
   ],
   "source": [
    "regression2.head(5), regression2.describe() "
   ]
  },
  {
   "cell_type": "code",
   "execution_count": 13,
   "id": "b644c96d-87c7-4aa5-8df1-8927868cdc45",
   "metadata": {},
   "outputs": [
    {
     "data": {
      "text/plain": [
       "(          x1        x2  label\n",
       " 0 -10.097950 -3.230260      1\n",
       " 1  -2.255579  5.107107      0\n",
       " 2 -10.562037 -3.919005      1\n",
       " 3  -0.126070  3.079037      0\n",
       " 4  -9.249422 -4.100176      1,\n",
       "                x1          x2       label\n",
       " count  500.000000  500.000000  500.000000\n",
       " mean    -5.798389    0.245624    0.500000\n",
       " std      4.231003    4.256805    0.500501\n",
       " min    -12.135348   -5.907046    0.000000\n",
       " 25%     -9.910831   -3.966689    0.000000\n",
       " 50%     -5.643838    0.638195    0.500000\n",
       " 75%     -1.640695    4.432683    1.000000\n",
       " max      0.462040    6.121048    1.000000)"
      ]
     },
     "execution_count": 13,
     "metadata": {},
     "output_type": "execute_result"
    }
   ],
   "source": [
    "classification.head(5), classification.describe()"
   ]
  },
  {
   "cell_type": "code",
   "execution_count": 27,
   "id": "78e702b5-5647-4fa0-ae49-0d5fccf6989a",
   "metadata": {},
   "outputs": [
    {
     "name": "stdout",
     "output_type": "stream",
     "text": [
      "<class 'pandas.core.frame.DataFrame'>\n",
      "RangeIndex: 63 entries, 0 to 62\n",
      "Data columns (total 2 columns):\n",
      " #   Column  Non-Null Count  Dtype  \n",
      "---  ------  --------------  -----  \n",
      " 0   x1      63 non-null     float64\n",
      " 1   x2      63 non-null     float64\n",
      "dtypes: float64(2)\n",
      "memory usage: 1.1 KB\n"
     ]
    },
    {
     "data": {
      "text/plain": [
       "(None, (63, 2))"
      ]
     },
     "execution_count": 27,
     "metadata": {},
     "output_type": "execute_result"
    }
   ],
   "source": [
    "regression1.info() , regression1.shape"
   ]
  },
  {
   "cell_type": "code",
   "execution_count": 19,
   "id": "1cf48317-3d14-47ae-b180-c45a78f81140",
   "metadata": {},
   "outputs": [
    {
     "name": "stdout",
     "output_type": "stream",
     "text": [
      "<class 'pandas.core.frame.DataFrame'>\n",
      "RangeIndex: 20 entries, 0 to 19\n",
      "Data columns (total 2 columns):\n",
      " #   Column  Non-Null Count  Dtype  \n",
      "---  ------  --------------  -----  \n",
      " 0   x1      20 non-null     float64\n",
      " 1   x2      20 non-null     float64\n",
      "dtypes: float64(2)\n",
      "memory usage: 452.0 bytes\n"
     ]
    }
   ],
   "source": [
    "regression2.info() , regression2.shape"
   ]
  },
  {
   "cell_type": "code",
   "execution_count": 29,
   "id": "086d0467-0568-4b82-8600-ef8d38dcf2e8",
   "metadata": {},
   "outputs": [
    {
     "name": "stdout",
     "output_type": "stream",
     "text": [
      "<class 'pandas.core.frame.DataFrame'>\n",
      "RangeIndex: 500 entries, 0 to 499\n",
      "Data columns (total 3 columns):\n",
      " #   Column  Non-Null Count  Dtype  \n",
      "---  ------  --------------  -----  \n",
      " 0   x1      500 non-null    float64\n",
      " 1   x2      500 non-null    float64\n",
      " 2   label   500 non-null    int64  \n",
      "dtypes: float64(2), int64(1)\n",
      "memory usage: 11.8 KB\n"
     ]
    },
    {
     "data": {
      "text/plain": [
       "(None, (500, 3))"
      ]
     },
     "execution_count": 29,
     "metadata": {},
     "output_type": "execute_result"
    }
   ],
   "source": [
    "classification.info() , classification.shape"
   ]
  },
  {
   "cell_type": "code",
   "execution_count": null,
   "id": "b6012e05-01fc-4356-9608-ee4e0e19b5a3",
   "metadata": {},
   "outputs": [],
   "source": []
  },
  {
   "cell_type": "code",
   "execution_count": null,
   "id": "eb38aa18-d933-414f-8f26-fb15d2336f08",
   "metadata": {},
   "outputs": [],
   "source": []
  },
  {
   "cell_type": "code",
   "execution_count": null,
   "id": "9156c98f-265d-4fd7-a44d-ebe1dfa03820",
   "metadata": {},
   "outputs": [],
   "source": []
  },
  {
   "cell_type": "code",
   "execution_count": null,
   "id": "4d3446c0-f6d3-41bc-b8ea-0efb4f68d9f2",
   "metadata": {},
   "outputs": [],
   "source": []
  },
  {
   "cell_type": "code",
   "execution_count": null,
   "id": "98da2348-f238-41bd-81ec-dd8503a227ab",
   "metadata": {},
   "outputs": [],
   "source": []
  }
 ],
 "metadata": {
  "kernelspec": {
   "display_name": "Python 3 (ipykernel)",
   "language": "python",
   "name": "python3"
  },
  "language_info": {
   "codemirror_mode": {
    "name": "ipython",
    "version": 3
   },
   "file_extension": ".py",
   "mimetype": "text/x-python",
   "name": "python",
   "nbconvert_exporter": "python",
   "pygments_lexer": "ipython3",
   "version": "3.11.7"
  }
 },
 "nbformat": 4,
 "nbformat_minor": 5
}
