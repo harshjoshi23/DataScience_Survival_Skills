{
 "cells": [
  {
   "cell_type": "code",
   "execution_count": 6,
   "id": "45485492-4c01-4efd-9433-0b1f736ec868",
   "metadata": {},
   "outputs": [],
   "source": [
    "###### basic imports"
   ]
  },
  {
   "cell_type": "code",
   "execution_count": 7,
   "id": "98bc7de1-a6ce-48eb-86c5-6589df213e23",
   "metadata": {},
   "outputs": [],
   "source": [
    "import numpy as np \n",
    "import h5py \n",
    "import matplotlib.pyplot as plt"
   ]
  },
  {
   "cell_type": "markdown",
   "id": "c1e97695-4e7d-4f50-b585-fcf4161f6f3e",
   "metadata": {},
   "source": [
    "## Task 1 : Iou Score calculation "
   ]
  },
  {
   "cell_type": "code",
   "execution_count": 9,
   "id": "a53d592a-4b12-4d91-9b5e-2d4072e99324",
   "metadata": {},
   "outputs": [],
   "source": [
    "def calculate_iou(box1, box2): \n",
    "    x1, y1, w1, h1 = box1\n",
    "    x2, y2, w2, h2 = box2\n",
    "\n",
    "    # calculating the coor of intesection (rectangle)\n",
    "    x_intersection = max(x1,x2)\n",
    "    y_intersection = max(y1,y2)\n",
    "    w_intersection = max(0,min(x1+w1,x2+w2) - x_intersection)\n",
    "    h_intersection = max(0,min(y1+h1,y2+h2) - y_intersection)\n",
    "\n",
    "    area_intersection = w_intersection * h_intersection\n",
    "    areaUnion = w1*h1 + w2*h2\n"
   ]
  },
  {
   "cell_type": "code",
   "execution_count": null,
   "id": "881e2eb6-700b-4911-9773-6dfc604fd7c8",
   "metadata": {},
   "outputs": [],
   "source": []
  },
  {
   "cell_type": "code",
   "execution_count": null,
   "id": "6306ef59-ce44-4d6a-92d5-a94300a85aa8",
   "metadata": {},
   "outputs": [],
   "source": []
  }
 ],
 "metadata": {
  "kernelspec": {
   "display_name": "Python 3 (ipykernel)",
   "language": "python",
   "name": "python3"
  },
  "language_info": {
   "codemirror_mode": {
    "name": "ipython",
    "version": 3
   },
   "file_extension": ".py",
   "mimetype": "text/x-python",
   "name": "python",
   "nbconvert_exporter": "python",
   "pygments_lexer": "ipython3",
   "version": "3.11.7"
  }
 },
 "nbformat": 4,
 "nbformat_minor": 5
}
