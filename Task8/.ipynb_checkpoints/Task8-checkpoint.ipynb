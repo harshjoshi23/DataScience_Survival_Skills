{
 "cells": [
  {
   "cell_type": "code",
   "execution_count": 5,
   "id": "4a6f9a85-c23b-486f-8dad-6a8bf8556313",
   "metadata": {},
   "outputs": [
    {
     "name": "stderr",
     "output_type": "stream",
     "text": [
      "2024-01-02 20:52:13.318024: I tensorflow/core/util/port.cc:113] oneDNN custom operations are on. You may see slightly different numerical results due to floating-point round-off errors from different computation orders. To turn them off, set the environment variable `TF_ENABLE_ONEDNN_OPTS=0`.\n",
      "2024-01-02 20:52:13.320212: I external/local_tsl/tsl/cuda/cudart_stub.cc:31] Could not find cuda drivers on your machine, GPU will not be used.\n",
      "2024-01-02 20:52:13.346447: E external/local_xla/xla/stream_executor/cuda/cuda_dnn.cc:9261] Unable to register cuDNN factory: Attempting to register factory for plugin cuDNN when one has already been registered\n",
      "2024-01-02 20:52:13.346464: E external/local_xla/xla/stream_executor/cuda/cuda_fft.cc:607] Unable to register cuFFT factory: Attempting to register factory for plugin cuFFT when one has already been registered\n",
      "2024-01-02 20:52:13.347271: E external/local_xla/xla/stream_executor/cuda/cuda_blas.cc:1515] Unable to register cuBLAS factory: Attempting to register factory for plugin cuBLAS when one has already been registered\n",
      "2024-01-02 20:52:13.351931: I external/local_tsl/tsl/cuda/cudart_stub.cc:31] Could not find cuda drivers on your machine, GPU will not be used.\n",
      "2024-01-02 20:52:13.352753: I tensorflow/core/platform/cpu_feature_guard.cc:182] This TensorFlow binary is optimized to use available CPU instructions in performance-critical operations.\n",
      "To enable the following instructions: AVX2 AVX512F AVX512_VNNI FMA, in other operations, rebuild TensorFlow with the appropriate compiler flags.\n",
      "2024-01-02 20:52:13.912188: W tensorflow/compiler/tf2tensorrt/utils/py_utils.cc:38] TF-TRT Warning: Could not find TensorRT\n"
     ]
    }
   ],
   "source": [
    "import tensorflow as tf\n",
    "import matplotlib.pyplot as plt \n",
    "import numpy as np "
   ]
  },
  {
   "cell_type": "code",
   "execution_count": null,
   "id": "04224947-bd11-4f2f-8fc6-2dd28ce82839",
   "metadata": {},
   "outputs": [],
   "source": []
  },
  {
   "cell_type": "markdown",
   "id": "d009d4c1-e56d-4193-b2ec-762509a87cb3",
   "metadata": {},
   "source": [
    "### Loading MNIST Data :"
   ]
  },
  {
   "cell_type": "code",
   "execution_count": 6,
   "id": "802c41e8-6bf6-4014-8e20-c2494f330e9a",
   "metadata": {},
   "outputs": [
    {
     "name": "stdout",
     "output_type": "stream",
     "text": [
      "Downloading data from https://storage.googleapis.com/tensorflow/tf-keras-datasets/mnist.npz\n",
      "11490434/11490434 [==============================] - 2s 0us/step\n"
     ]
    }
   ],
   "source": [
    "(train_images, train_labels) , (test_images, test_labels) = tf.keras.datasets.mnist.load_data()"
   ]
  },
  {
   "cell_type": "markdown",
   "id": "b9a606e1-f3b9-43b9-a700-ea6600c8289a",
   "metadata": {},
   "source": [
    "## EDA on Data : "
   ]
  },
  {
   "cell_type": "code",
   "execution_count": 15,
   "id": "2e0cf592-6125-40df-a2fe-7eafc9dd6b4d",
   "metadata": {},
   "outputs": [
    {
     "name": "stdout",
     "output_type": "stream",
     "text": [
      "Training set images shape: (60000, 28, 28)\n",
      "Training set labels shape: (60000,)\n",
      "Test set images shape: (10000, 28, 28)\n",
      "Test set labels shape: (10000,)\n"
     ]
    }
   ],
   "source": [
    "print(\"Training set images shape:\", train_images.shape)  \n",
    "print(\"Training set labels shape:\", train_labels.shape)\n",
    "print(\"Test set images shape:\", test_images.shape) \n",
    "print(\"Test set labels shape:\", test_labels.shape)\n"
   ]
  },
  {
   "cell_type": "code",
   "execution_count": null,
   "id": "58fb7f08-d776-454b-b9a0-9121b2e2b38a",
   "metadata": {},
   "outputs": [],
   "source": []
  },
  {
   "cell_type": "code",
   "execution_count": null,
   "id": "7d720907-3fcd-4261-8e0c-1985cdb69948",
   "metadata": {},
   "outputs": [],
   "source": []
  },
  {
   "cell_type": "code",
   "execution_count": null,
   "id": "935b83cb-473f-4bf0-8bf5-a168867ea2ac",
   "metadata": {},
   "outputs": [],
   "source": []
  },
  {
   "cell_type": "markdown",
   "id": "620a37d0-bafa-42e3-ba43-6685f0c7ac38",
   "metadata": {
    "jp-MarkdownHeadingCollapsed": true
   },
   "source": [
    "## Task 1 : "
   ]
  },
  {
   "cell_type": "markdown",
   "id": "04e8143e-dd28-4c8f-bbe0-ec07d3e36fc6",
   "metadata": {},
   "source": [
    "### Selecting a Random Sample : "
   ]
  },
  {
   "cell_type": "code",
   "execution_count": 9,
   "id": "d166dc69-ca12-4fed-86dd-fd129984771e",
   "metadata": {},
   "outputs": [],
   "source": [
    "random_index = np.random.randint(0,len(train_images))\n",
    "sample_image, sample_label = train_images[random_index], train_labels[random_index]"
   ]
  },
  {
   "cell_type": "code",
   "execution_count": 10,
   "id": "06ee6391-5536-4de7-b91b-52e465ecd40d",
   "metadata": {},
   "outputs": [
    {
     "data": {
      "text/plain": [
       "6"
      ]
     },
     "execution_count": 10,
     "metadata": {},
     "output_type": "execute_result"
    }
   ],
   "source": [
    "sample_label"
   ]
  },
  {
   "cell_type": "markdown",
   "id": "4a2d83d7-c8e8-438c-b88f-c82005a295ea",
   "metadata": {},
   "source": [
    "### Plotting the Sample : "
   ]
  },
  {
   "cell_type": "code",
   "execution_count": 14,
   "id": "9a8ddd22-1159-4734-ad62-b47fd675771f",
   "metadata": {},
   "outputs": [
    {
     "data": {
      "image/png": "[encoded data removed]",
      "text/plain": [
       "<Figure size 640x480 with 1 Axes>"
      ]
     },
     "metadata": {},
     "output_type": "display_data"
    }
   ],
   "source": [
    "plt.imshow(sample_image,cmap='gray')\n",
    "plt.title(f'Label: {sample_label}')\n",
    "plt.show()"
   ]
  },
  {
   "cell_type": "markdown",
   "id": "437953f8-7621-4d48-ab6f-d1e5597f28e1",
   "metadata": {},
   "source": [
    "### Examples of activation functions : \n",
    "\n",
    "Five commonly used activation functions in neural networks:\n",
    "\n",
    "<b>ReLU (Rectified Linear Unit)</b><br>\n",
    "<b>Formula:</b> f(x) = max(0, x)<br>\n",
    "<b>Description:</b> ReLU is widely used due to its simplicity and efficiency. It outputs the input directly if it's positive, otherwise, it outputs zero.<br><br>\n",
    "\n",
    "<b>Sigmoid</b><br>\n",
    "<b>Formula:</b> f(x) = 1 / (1 + e^(-x))<br>\n",
    "<b>Description:</b> The sigmoid function outputs values between 0 and 1, making it suitable for binary classification problems.<br><br>\n",
    "\n",
    "<b>Tanh (Hyperbolic Tangent)</b><br>\n",
    "<b>Formula:</b> f(x) = (e^x - e^(-x)) / (e^x + e^(-x))<br>\n",
    "<b>Description:</b> Similar to sigmoid but outputs values between -1 and 1. Useful when the model needs to make decisions between two extremes.<br><br>\n",
    "\n",
    "<b>Softmax</b><br>\n",
    "<b>Formula:</b> In a vector of real numbers x, the Softmax of the ith element is e^(x_i) / sum(e^(x_j))<br>\n",
    "<b>Description:</b> Often used in the output layer of a neural network for multi-class classification, returning probabilities of each class.<br><br>\n",
    "\n",
    "<b>Leaky ReLU</b><br>\n",
    "<b>Formula:</b> f(x) = x if x > 0; f(x) = αx otherwise, where α is a small constant.<br>\n",
    "<b>Description:</b> A variation of ReLU that allows a small gradient when the unit is not active, helping to mitigate the dying ReLU problem."
   ]
  },
  {
   "cell_type": "code",
   "execution_count": null,
   "id": "ed8ff354-8b81-4ad1-bfbc-19eacedbec8c",
   "metadata": {},
   "outputs": [],
   "source": []
  },
  {
   "cell_type": "code",
   "execution_count": null,
   "id": "675f8675-b782-4d33-b584-54a753b00b37",
   "metadata": {},
   "outputs": [],
   "source": []
  },
  {
   "cell_type": "markdown",
   "id": "0b9a1dc9-b277-4619-b79b-26c1734ed469",
   "metadata": {},
   "source": [
    "## Task 2 : "
   ]
  },
  {
   "cell_type": "code",
   "execution_count": null,
   "id": "87b77e28-68d0-44db-ae0e-3fc225751636",
   "metadata": {},
   "outputs": [],
   "source": []
  }
 ],
 "metadata": {
  "kernelspec": {
   "display_name": "Python 3 (ipykernel)",
   "language": "python",
   "name": "python3"
  },
  "language_info": {
   "codemirror_mode": {
    "name": "ipython",
    "version": 3
   },
   "file_extension": ".py",
   "mimetype": "text/x-python",
   "name": "python",
   "nbconvert_exporter": "python",
   "pygments_lexer": "ipython3",
   "version": "3.11.7"
  }
 },
 "nbformat": 4,
 "nbformat_minor": 5
}
