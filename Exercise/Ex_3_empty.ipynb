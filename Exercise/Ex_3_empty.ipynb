{
 "cells": [
  {
   "cell_type": "code",
   "execution_count": null,
   "id": "94b980a2",
   "metadata": {
    "ExecuteTime": {
     "end_time": "2023-11-14T16:01:51.484205800Z",
     "start_time": "2023-11-14T16:01:49.076002800Z"
    },
    "id": "94b980a2"
   },
   "outputs": [],
   "source": [
    "import os\n",
    "import json\n",
    "import numpy as np\n",
    "\n",
    "import matplotlib.pyplot as plt"
   ]
  },
  {
   "cell_type": "code",
   "execution_count": null,
   "id": "caf64db9",
   "metadata": {
    "ExecuteTime": {
     "end_time": "2023-11-14T16:03:05.522304400Z",
     "start_time": "2023-11-14T16:03:05.445237100Z"
    },
    "id": "caf64db9"
   },
   "outputs": [],
   "source": [
    "BAGLS_PATH = \"Mini_BAGLS_dataset\""
   ]
  },
  {
   "cell_type": "code",
   "execution_count": null,
   "id": "e4cffe71",
   "metadata": {
    "ExecuteTime": {
     "end_time": "2023-11-14T16:03:08.691025300Z",
     "start_time": "2023-11-14T16:03:08.588967800Z"
    },
    "id": "e4cffe71",
    "scrolled": true
   },
   "outputs": [],
   "source": [
    "# get all filenames\n",
    "files = os.listdir(BAGLS_PATH)\n",
    "\n",
    "# what is os.listdir() returning?\n",
    "# type ==> list()\n",
    "print(type(files))\n",
    "\n",
    "print(files)"
   ]
  },
  {
   "cell_type": "code",
   "execution_count": null,
   "id": "e592656247939a82",
   "metadata": {
    "ExecuteTime": {
     "end_time": "2023-11-14T16:03:11.570608Z",
     "start_time": "2023-11-14T16:03:11.531483200Z"
    }
   },
   "outputs": [],
   "source": [
    "# iterate over the list\n",
    "for f in files:\n",
    "    print(f)"
   ]
  },
  {
   "cell_type": "code",
   "execution_count": null,
   "id": "7295a9ba0b813f1e",
   "metadata": {
    "ExecuteTime": {
     "end_time": "2023-11-14T16:03:12.175503600Z",
     "start_time": "2023-11-14T16:03:12.097930200Z"
    },
    "scrolled": true
   },
   "outputs": [],
   "source": [
    "# get all unique filenames (e.g. each filename with file extension '.meta')\n",
    "filenames = \n",
    "filenames"
   ]
  },
  {
   "cell_type": "markdown",
   "id": "df908d8bbd557988",
   "metadata": {},
   "source": [
    "### Pathlib"
   ]
  },
  {
   "cell_type": "code",
   "execution_count": null,
   "id": "6373c4f7",
   "metadata": {
    "ExecuteTime": {
     "end_time": "2023-11-14T16:03:16.785626900Z",
     "start_time": "2023-11-14T16:03:16.695630900Z"
    },
    "id": "6373c4f7",
    "outputId": "1750c04a-9bf0-4273-bdbc-bf6f616bf026"
   },
   "outputs": [],
   "source": [
    "from pathlib import Path\n",
    "path_pathlib = Path(BAGLS_PATH)\n",
    "path_pathlib"
   ]
  },
  {
   "cell_type": "code",
   "execution_count": null,
   "id": "34348e3e1e1877e6",
   "metadata": {
    "ExecuteTime": {
     "end_time": "2023-11-14T16:06:26.115247Z",
     "start_time": "2023-11-14T16:06:26.046038800Z"
    }
   },
   "outputs": [],
   "source": [
    "new_path = path_pathlib / \"64.png\"\n",
    "\n",
    "# Get the parent directory\n",
    "\n",
    "# Get the file name\n",
    "\n",
    "# Separate the number from the file extension\n",
    "\n",
    "\n",
    "# Get the file extension\n",
    "\n",
    "\n",
    "# Get the file name without the extension\n",
    "\n",
    "\n",
    "# Check if the path exists\n",
    "\n",
    "\n",
    "# Check if the path is a file\n",
    "\n",
    "\n",
    "# Check if the path is a directory\n",
    "\n"
   ]
  },
  {
   "cell_type": "code",
   "execution_count": null,
   "id": "ef8c3834ca23937f",
   "metadata": {
    "ExecuteTime": {
     "end_time": "2023-11-14T16:03:19.046113100Z",
     "start_time": "2023-11-14T16:03:18.956486100Z"
    }
   },
   "outputs": [],
   "source": [
    "content = new_path.read_bytes()\n",
    "content"
   ]
  },
  {
   "cell_type": "code",
   "execution_count": null,
   "id": "dcb3921ae8bfe68c",
   "metadata": {
    "ExecuteTime": {
     "end_time": "2023-11-14T16:03:22.898886Z",
     "start_time": "2023-11-14T16:03:22.849095Z"
    },
    "scrolled": true
   },
   "outputs": [],
   "source": [
    "for path in \n",
    "    print(path)"
   ]
  },
  {
   "cell_type": "markdown",
   "id": "470ef91470000014",
   "metadata": {},
   "source": [
    "### glob"
   ]
  },
  {
   "cell_type": "code",
   "execution_count": null,
   "id": "4d15e0d1",
   "metadata": {
    "ExecuteTime": {
     "end_time": "2023-11-14T16:03:29.652803600Z",
     "start_time": "2023-11-14T16:03:29.537046800Z"
    },
    "id": "4d15e0d1",
    "scrolled": true
   },
   "outputs": [],
   "source": [
    "# another way to combine os.listdir() and the for loop\n",
    "import glob\n",
    "glob_filenames = \n",
    "glob_filenames"
   ]
  },
  {
   "cell_type": "code",
   "execution_count": null,
   "id": "084eb4eb",
   "metadata": {
    "ExecuteTime": {
     "end_time": "2023-11-14T16:03:32.365675700Z",
     "start_time": "2023-11-14T16:03:32.238097Z"
    },
    "id": "084eb4eb",
    "outputId": "7529a4ef-2da4-4ec4-892b-a10442a42647"
   },
   "outputs": [],
   "source": [
    "# iterate over the filenames (with index)\n",
    "for idx, f in enumerate(glob_filenames):\n",
    "    print(idx, f)\n",
    "    break\n",
    "    \n",
    "# out: Index: X, Filename: YYYY"
   ]
  },
  {
   "cell_type": "markdown",
   "id": "1714b42fc7c8a291",
   "metadata": {},
   "source": [
    "## Images - General"
   ]
  },
  {
   "cell_type": "code",
   "execution_count": null,
   "id": "38b2c8a7a6fdef7c",
   "metadata": {
    "ExecuteTime": {
     "start_time": "2023-11-14T16:01:51.512206400Z"
    }
   },
   "outputs": [],
   "source": [
    "################################\n",
    "# Install these packages if you have not done so already\n",
    "################################\n",
    "\n",
    "#!pip install imageio\n",
    "#!pip install scikit-image\n",
    "#!pip install opencv-python"
   ]
  },
  {
   "cell_type": "code",
   "execution_count": null,
   "id": "3a898e7c",
   "metadata": {
    "ExecuteTime": {
     "end_time": "2023-11-15T14:20:17.395497Z",
     "start_time": "2023-11-15T14:20:17.073366Z"
    },
    "id": "3a898e7c"
   },
   "outputs": [],
   "source": [
    "import imageio.v3 as io\n",
    "from PIL import Image\n",
    "import skimage\n",
    "import cv2\n",
    "\n",
    "## load image with different libraries\n",
    "img_path = \"nice_image.jpg\" # Source: https://www.pexels.com/de-de/foto/picknick-fruchte-liegend-freizeit-18868015/\n",
    "img = io\n",
    "img = Image\n",
    "img = skimage\n",
    "img = cv2\n",
    "\n",
    "# load image as grayscale\n",
    "#img = skimage.io.imread(img_path) #, as_gray=True)\n",
    "#plt.imshow(img) #, cmap='gray')\n",
    "\n",
    "print(img.shape)"
   ]
  },
  {
   "cell_type": "code",
   "execution_count": null,
   "id": "f7e4c91741fd415e",
   "metadata": {
    "ExecuteTime": {
     "end_time": "2023-11-15T14:20:20.308637200Z",
     "start_time": "2023-11-15T14:20:19.722253200Z"
    }
   },
   "outputs": [],
   "source": [
    "# Histogram of pixel intensities\n",
    "plt.\n",
    "plt.title('Pixel Intensity Histogram')\n",
    "plt.xlabel('Pixel Value')\n",
    "plt.ylabel('Frequency')\n",
    "plt.show()"
   ]
  },
  {
   "cell_type": "code",
   "execution_count": null,
   "id": "5fe91895d9c58d42",
   "metadata": {
    "ExecuteTime": {
     "end_time": "2023-11-15T14:20:25.221039800Z",
     "start_time": "2023-11-15T14:20:24.549123400Z"
    }
   },
   "outputs": [],
   "source": [
    "# Basic image manipulation\n",
    "resized_img = \n",
    "plt.imshow(resized_img)\n",
    "plt.show()\n",
    "\n",
    "rotated_img = \n",
    "plt.imshow(rotated_img)\n",
    "plt.show()\n",
    "\n",
    "flipped_img = \n",
    "plt.imshow(flipped_img)\n",
    "plt.show()"
   ]
  },
  {
   "cell_type": "code",
   "execution_count": null,
   "id": "a3ad3bba203a592c",
   "metadata": {
    "ExecuteTime": {
     "end_time": "2023-11-15T14:20:33.330629900Z",
     "start_time": "2023-11-15T14:20:32.642316300Z"
    }
   },
   "outputs": [],
   "source": [
    "# Filtering\n",
    "\n",
    "# Apply a Gaussian blur\n",
    "fig, ax = plt.subplots(1, 2, figsize=(10, 5))\n",
    "ax[0].imshow(img)\n",
    "ax[0].set_title(\"Original\")\n",
    "\n",
    "blurred_img = cv2.\n",
    "ax[1].imshow(blurred_img)\n",
    "ax[1].set_title(\"Blurred\")\n",
    "plt.show()\n",
    "\n",
    "# Apply sharpening --> enhance the high-frequency components in an image\n",
    "kernel = \n",
    "img_sharpened = \n",
    "plt.imshow(img_sharpened)\n",
    "plt.show()"
   ]
  },
  {
   "cell_type": "code",
   "execution_count": null,
   "id": "01163af6",
   "metadata": {},
   "outputs": [],
   "source": [
    "# Compare the histograms of the original and sharpened image\n",
    "fig, ax = plt.subplots(1, 2, figsize=(10, 5))\n",
    "ax[0].hist(img_gray.ravel(), bins=256, range=[0, 256])\n",
    "ax[0].set_title(\"Original\")\n",
    "\n",
    "ax[1].hist(img_sharpened_gray.ravel(), bins=256, range=[0, 256])\n",
    "ax[1].set_title(\"Sharpened\")\n",
    "plt.show()"
   ]
  },
  {
   "cell_type": "code",
   "execution_count": null,
   "id": "e32699696a1f546f",
   "metadata": {
    "ExecuteTime": {
     "end_time": "2023-11-15T14:20:44.769034300Z",
     "start_time": "2023-11-15T14:20:44.519654Z"
    }
   },
   "outputs": [],
   "source": [
    "# Look at frequency content of the cropped image and img_sharpened\n",
    "from scipy import fftpack\n",
    "\n",
    "def get_magnitude_spectrum(image):\n",
    "    # Compute the 2-dimensional discrete Fourier Transform\n",
    "    \n",
    "\n",
    "    # Shift the zero-frequency component to the center of the spectrum\n",
    "   \n",
    "    \n",
    "    # Compute the magnitude spectrum (logarithmic scale for better visualization)\n",
    "    \n",
    "    \n",
    "    return magnitude_spectrum"
   ]
  },
  {
   "cell_type": "code",
   "execution_count": null,
   "id": "dc1963b631709e1c",
   "metadata": {
    "ExecuteTime": {
     "end_time": "2023-11-15T14:20:47.122506100Z",
     "start_time": "2023-11-15T14:20:47.093515900Z"
    }
   },
   "outputs": [],
   "source": [
    "# Convert to grayscale\n",
    "img_gray = cv2.cvtColor(img, cv2.COLOR_RGB2GRAY) #/ 255.\n",
    "img_sharpened_gray = cv2.cvtColor(img_sharpened, cv2.COLOR_RGB2GRAY) #/ 255."
   ]
  },
  {
   "cell_type": "code",
   "execution_count": null,
   "id": "8618af3a1bf8f29e",
   "metadata": {
    "ExecuteTime": {
     "end_time": "2023-11-15T14:20:49.095445600Z",
     "start_time": "2023-11-15T14:20:48.454256400Z"
    }
   },
   "outputs": [],
   "source": [
    "mag_spec_original = get_magnitude_spectrum(img_gray)\n",
    "mag_spec_sharpened = get_magnitude_spectrum(img_sharpened_gray)\n",
    "\n",
    "fig, ax = plt.subplots(1, 2, figsize=(10, 5))\n",
    "ax[0].imshow(mag_spec_original)\n",
    "ax[0].set_title(\"Original\")\n",
    "\n",
    "ax[1].imshow(mag_spec_sharpened)\n",
    "ax[1].set_title(\"Sharpened\")\n",
    "plt.show()"
   ]
  },
  {
   "cell_type": "code",
   "execution_count": null,
   "id": "e96d628e",
   "metadata": {
    "id": "e96d628e"
   },
   "outputs": [],
   "source": [
    "# which image loading function to use?\n",
    "import time\n",
    "def test_read_image(imgfile, func):\n",
    "    \n",
    "    return t\n",
    "\n",
    "functions = []\n",
    "\n",
    "times = []\n",
    "for func in functions:\n",
    "    ts = []\n",
    "    for f in path_pathlib.glob(\"*.png\"):\n",
    "        t = \n",
    "        ts.append(t)\n",
    "    times.append(ts)"
   ]
  },
  {
   "cell_type": "code",
   "execution_count": null,
   "id": "27ce375c",
   "metadata": {
    "id": "27ce375c"
   },
   "outputs": [],
   "source": [
    "for t, func in zip(times, functions):\n",
    "    print(str(func))\n",
    "    print(\"{:.6f} seconds\".format(np.mean(t)))\n",
    "    print(\"_____\")"
   ]
  },
  {
   "cell_type": "markdown",
   "id": "21053a9c",
   "metadata": {},
   "source": [
    "## BAGLS"
   ]
  },
  {
   "cell_type": "code",
   "execution_count": null,
   "id": "2ca87821",
   "metadata": {
    "id": "2ca87821",
    "scrolled": true
   },
   "outputs": [],
   "source": [
    "for idx, f in enumerate(path_pathlib.glob(\"*_seg.png\")):\n",
    "    # make sure to only look at the first 5 samples and not all 2000 of them\n",
    "    if idx == 5:\n",
    "        break\n",
    "        \n",
    "    # get basename\n",
    "    basename = \n",
    "    \n",
    "    # load image and segmentation mask\n",
    "    img_path = \n",
    "    seg_path = \n",
    "    img = io.imread(img_path)\n",
    "    seg = io.imread(seg_path)\n",
    "\n",
    "    # visualize image and segmentation mask\n",
    "    fig, (ax1, ax2) = plt.subplots(1, 2, figsize=(5, 5))\n",
    "    ax1.axis(\"off\"); ax2.axis(\"off\")\n",
    "\n",
    "    # show both\n",
    "    ax1.imshow(img);ax2.imshow(seg)    \n",
    "    plt.show()"
   ]
  },
  {
   "cell_type": "code",
   "execution_count": null,
   "id": "13500c1b",
   "metadata": {
    "id": "13500c1b"
   },
   "outputs": [],
   "source": [
    "ref_image = img\n",
    "plt.imshow(ref_image)"
   ]
  },
  {
   "cell_type": "code",
   "execution_count": null,
   "id": "84d8563c",
   "metadata": {
    "id": "84d8563c"
   },
   "outputs": [],
   "source": [
    "# saving with different formats\n",
    "\n",
    "# tif\n",
    "io.imwrite(\"saved_image.tif\", ref_image)\n",
    "\n",
    "# png\n",
    "io.imwrite(\"saved_image.png\", ref_image)\n",
    "\n",
    "# jpg\n",
    "io.imwrite(\"saved_image.jpg\", ref_image)"
   ]
  },
  {
   "cell_type": "code",
   "execution_count": null,
   "id": "573eeeac",
   "metadata": {
    "id": "573eeeac"
   },
   "outputs": [],
   "source": [
    "# check out memory footprints\n",
    "import os\n",
    "img_tif_size = os.path.getsize(\"saved_image.tif\")\n",
    "img_png_size = os.path.getsize(\"saved_image.png\")\n",
    "img_jpg_size = os.path.getsize(\"saved_image.jpg\")\n",
    "\n",
    "plt.bar([0, 1, 2], [img_tif_size, img_png_size, img_jpg_size])\n",
    "plt.xticks([0, 1, 2], [\".tif\", \".png\", \".jpg\"])\n",
    "plt.ylabel(\"File size [bytes]\")"
   ]
  },
  {
   "cell_type": "markdown",
   "id": "b8fabdee",
   "metadata": {
    "id": "b8fabdee"
   },
   "source": []
  },
  {
   "cell_type": "code",
   "execution_count": null,
   "id": "77b07ac9",
   "metadata": {
    "id": "77b07ac9"
   },
   "outputs": [],
   "source": [
    "# load images\n",
    "img_tif = io.imread(\"saved_image.tif\")\n",
    "img_png = io.imread(\"saved_image.png\")\n",
    "img_jpg = io.imread(\"saved_image.jpg\")"
   ]
  },
  {
   "cell_type": "code",
   "execution_count": null,
   "id": "12675b5f",
   "metadata": {
    "id": "12675b5f",
    "outputId": "6e7c302a-61e7-45b5-cd16-3d18967822ab"
   },
   "outputs": [],
   "source": [
    "# compare them to each other\n",
    "np.allclose(ref_image, img_tif)\n",
    "np.allclose(ref_image, img_png)\n",
    "np.allclose(ref_image, img_jpg)"
   ]
  },
  {
   "cell_type": "markdown",
   "id": "22c98c7e",
   "metadata": {
    "id": "22c98c7e"
   },
   "source": [
    "### Calculate [PSNR](https://www.ni.com/de-de/innovations/white-papers/11/peak-signal-to-noise-ratio-as-an-image-quality-metric.html) between images"
   ]
  },
  {
   "attachments": {
    "image.png": {
     "image/png": "[encoded data removed]"
    }
   },
   "cell_type": "markdown",
   "id": "1d292626",
   "metadata": {},
   "source": [
    "![image.png](attachment:image.png)"
   ]
  },
  {
   "attachments": {
    "image.png": {
     "image/png": "[encoded data removed]"
    }
   },
   "cell_type": "markdown",
   "id": "5ebb2e2d",
   "metadata": {},
   "source": [
    "![image.png](attachment:image.png)"
   ]
  },
  {
   "cell_type": "code",
   "execution_count": null,
   "id": "91842aee",
   "metadata": {
    "id": "91842aee"
   },
   "outputs": [],
   "source": [
    "def psnr(img1, img2):\n",
    "    #mean squared error:\n",
    "    mse = \n",
    "    \n",
    "    return "
   ]
  },
  {
   "cell_type": "code",
   "execution_count": null,
   "id": "edadb763",
   "metadata": {
    "id": "edadb763",
    "outputId": "4ade2c85-9b7f-4150-a9b2-8c280d4ea11d"
   },
   "outputs": [],
   "source": [
    "print(psnr(ref_image, img_tif))\n",
    "print(psnr(ref_image, img_png))\n",
    "print(psnr(ref_image, img_jpg))\n",
    "\n",
    "print(psnr(ref_image, np.random.randint(0, 255, ref_image.shape)))"
   ]
  },
  {
   "cell_type": "code",
   "execution_count": null,
   "id": "3b2a111f",
   "metadata": {
    "ExecuteTime": {
     "end_time": "2023-11-15T14:29:51.929406200Z",
     "start_time": "2023-11-15T14:29:51.784352800Z"
    },
    "id": "3b2a111f",
    "outputId": "199929c6-5e6f-4eed-f11c-442978784655"
   },
   "outputs": [],
   "source": [
    "import pandas as pd\n",
    "\n",
    "# get all meta data information \n",
    "all_meta_data = []\n",
    "\n",
    "for f in glob_filenames:\n",
    "    # open .meta file\n",
    "    meta_file = open(f)\n",
    "    meta_data = json.load(meta_file)\n",
    "    all_meta_data.append(meta_data)\n",
    "    \n",
    "df = pd.DataFrame(all_meta_data)\n",
    "df"
   ]
  },
  {
   "cell_type": "code",
   "execution_count": null,
   "id": "b663ab53",
   "metadata": {
    "id": "b663ab53"
   },
   "outputs": [],
   "source": [
    "df.to_csv(\"metadata.csv\")"
   ]
  },
  {
   "cell_type": "code",
   "execution_count": null,
   "id": "69937030",
   "metadata": {
    "ExecuteTime": {
     "end_time": "2023-11-15T14:25:37.296726400Z",
     "start_time": "2023-11-15T14:25:36.903527300Z"
    },
    "id": "69937030"
   },
   "outputs": [],
   "source": [
    "vid_path = \"glottis_video/glottis_video.mp4\""
   ]
  },
  {
   "cell_type": "code",
   "execution_count": null,
   "id": "1d5cff41",
   "metadata": {
    "ExecuteTime": {
     "end_time": "2023-11-15T14:25:38.162901500Z",
     "start_time": "2023-11-15T14:25:38.130891900Z"
    },
    "id": "1d5cff41",
    "outputId": "d40c3758-e9b1-41d5-8ebe-96e5d81bfdf5"
   },
   "outputs": [],
   "source": [
    "from IPython.display import Video\n",
    "Video(vid_path)"
   ]
  },
  {
   "cell_type": "code",
   "execution_count": null,
   "id": "a588f15e5b3bac01",
   "metadata": {},
   "outputs": [],
   "source": [
    "# If needed, install scikit-video\n",
    "#!pip install scikit-video"
   ]
  },
  {
   "cell_type": "code",
   "execution_count": null,
   "id": "0ebb79b1",
   "metadata": {
    "ExecuteTime": {
     "end_time": "2023-11-15T14:26:32.556239100Z",
     "start_time": "2023-11-15T14:26:31.695036600Z"
    },
    "id": "0ebb79b1",
    "outputId": "64ec3ef6-bb92-4397-84de-843d574b53ae"
   },
   "outputs": [],
   "source": [
    "# load video using scikit-video\n",
    "\n",
    "import skvideo.io  \n",
    "glottis_video = skvideo.io.vread(vid_path)  \n",
    "glottis_video.shape"
   ]
  },
  {
   "cell_type": "code",
   "execution_count": null,
   "id": "f95486ae5d2d99a0",
   "metadata": {},
   "outputs": [],
   "source": [
    "# If needed\n",
    "# !pip install imageio-ffmpeg"
   ]
  },
  {
   "cell_type": "code",
   "execution_count": null,
   "id": "73c286df",
   "metadata": {
    "ExecuteTime": {
     "end_time": "2023-11-15T14:27:02.120840600Z",
     "start_time": "2023-11-15T14:27:01.548265Z"
    },
    "id": "73c286df",
    "outputId": "edfea8fd-4d29-4ba9-c4ed-5c888e8aa5e1"
   },
   "outputs": [],
   "source": [
    "# load video using imageio\n",
    "\n",
    "import imageio\n",
    "glottis_video = imageio.mimread(vid_path)\n",
    "np.asarray(glottis_video).shape"
   ]
  },
  {
   "cell_type": "code",
   "execution_count": null,
   "id": "f6f33d32",
   "metadata": {
    "ExecuteTime": {
     "end_time": "2023-11-15T14:27:30.575131Z",
     "start_time": "2023-11-15T14:27:30.273962Z"
    },
    "colab": {
     "referenced_widgets": [
      "79d927d76a724e80ad9c70baee826452"
     ]
    },
    "id": "f6f33d32",
    "outputId": "447eb85c-db51-4a44-b623-9fcec0dc7135"
   },
   "outputs": [],
   "source": [
    "import ipywidgets as widgets\n",
    "\n",
    "alpha_slider = widgets.FloatSlider(\n",
    "    value=1.,\n",
    "    min=0,\n",
    "    max=1.0,\n",
    "    step=0.01,\n",
    "    description='Alpha',\n",
    ")\n",
    "\n",
    "@widgets.interact(n=(0, len(glottis_video)-1))\n",
    "def f(n=5, alpha=alpha_slider):\n",
    "    alpha = alpha_slider.value\n",
    "    plt.imshow(glottis_video[n], alpha=alpha)"
   ]
  },
  {
   "cell_type": "code",
   "execution_count": null,
   "id": "b28ff830",
   "metadata": {
    "ExecuteTime": {
     "end_time": "2023-11-15T14:27:45.396434500Z",
     "start_time": "2023-11-15T14:27:45.106377400Z"
    },
    "id": "b28ff830",
    "outputId": "350b8e68-194f-4aa6-f9e3-8cc6760b731d"
   },
   "outputs": [],
   "source": [
    "# load video frame by frame by creating an iterable reader object\n",
    "\n",
    "vid_reader = imageio.get_reader(vid_path,  'ffmpeg')\n",
    "\n",
    "for frame in vid_reader.iter_data():\n",
    "    plt.imshow(frame)\n",
    "    break"
   ]
  },
  {
   "cell_type": "code",
   "execution_count": null,
   "id": "f89ab1b8",
   "metadata": {
    "ExecuteTime": {
     "end_time": "2023-11-15T14:27:48.279051600Z",
     "start_time": "2023-11-15T14:27:48.184052400Z"
    },
    "id": "f89ab1b8",
    "outputId": "99c6139e-e6ed-4b86-e744-65c0772a0155"
   },
   "outputs": [],
   "source": [
    "# JSON files\n",
    "metadata = vid_reader.get_meta_data()\n",
    "metadata"
   ]
  },
  {
   "cell_type": "code",
   "execution_count": null,
   "id": "722360b2",
   "metadata": {
    "ExecuteTime": {
     "end_time": "2023-11-15T14:27:50.816876700Z",
     "start_time": "2023-11-15T14:27:50.792572900Z"
    },
    "id": "722360b2"
   },
   "outputs": [],
   "source": [
    "import json\n",
    "\n",
    "with open('video_metadata_example.json', 'w') as f:\n",
    "    json.dump(metadata, f, indent=2)"
   ]
  },
  {
   "cell_type": "code",
   "execution_count": null,
   "id": "13a20b77",
   "metadata": {
    "ExecuteTime": {
     "end_time": "2023-11-15T14:27:52.276440200Z",
     "start_time": "2023-11-15T14:27:52.223727800Z"
    },
    "id": "13a20b77",
    "outputId": "467727d8-50b5-4777-8079-a4f49ba45b41"
   },
   "outputs": [],
   "source": [
    "with open('video_metadata_example.json', 'r') as f:\n",
    "    data = json.load(f)\n",
    "data"
   ]
  },
  {
   "cell_type": "code",
   "execution_count": null,
   "id": "2b0f700b",
   "metadata": {
    "ExecuteTime": {
     "end_time": "2023-11-15T14:28:52.573990900Z",
     "start_time": "2023-11-15T14:28:51.201905100Z"
    },
    "id": "2b0f700b",
    "outputId": "d4056beb-c7bf-479d-888b-c5b2a21f013e"
   },
   "outputs": [],
   "source": [
    "# save videos lossless\n",
    "\n",
    "imageio.mimwrite(\"saved_video.mp4\", \n",
    "                 glottis_video,   # video \n",
    "                 fps=10,          # frames per second\n",
    "                 codec='libx264rgb',   # use the right codec\n",
    "                 pixelformat='rgb24',   # and pixel format\n",
    "                 output_params=['-crf', '0',      # Ensure setting crf to 0\n",
    "                                '-preset', 'veryslow']) # Maximum compression: veryslow, \n",
    "                                                         # maximum speed: ultrafast\n",
    "    \n",
    "# check out file size depending on 'veryslow' or 'ultrafast'\n",
    "os.path.getsize(\"saved_video.mp4\")"
   ]
  },
  {
   "cell_type": "code",
   "execution_count": null,
   "id": "53b00d94",
   "metadata": {
    "ExecuteTime": {
     "end_time": "2023-11-15T14:28:05.896412900Z",
     "start_time": "2023-11-15T14:28:05.762194900Z"
    },
    "id": "53b00d94",
    "outputId": "865d2fd9-c748-4dde-9437-2b29268bf6bf"
   },
   "outputs": [],
   "source": [
    "# save videos lossless\n",
    "\n",
    "imageio.mimwrite(\"saved_video.mp4\", \n",
    "                 glottis_video,   # video \n",
    "                 fps=10,          # frames per second\n",
    "                 codec='libx264rgb',   # use the right codec\n",
    "                 pixelformat='rgb24',   # and pixel format\n",
    "                 output_params=['-crf', '0',      # Ensure setting crf to 0\n",
    "                                '-preset', 'ultrafast']) # Maximum compression: veryslow, \n",
    "                                                         # maximum speed: ultrafast\n",
    "    \n",
    "# check out file size depending on 'veryslow' or 'ultrafast'\n",
    "os.path.getsize(\"saved_video.mp4\")"
   ]
  },
  {
   "cell_type": "code",
   "execution_count": null,
   "id": "b41cfceb",
   "metadata": {
    "ExecuteTime": {
     "end_time": "2023-11-15T14:28:54.867109Z",
     "start_time": "2023-11-15T14:28:54.319181Z"
    },
    "id": "b41cfceb",
    "outputId": "08da600c-bfe7-4d00-dd0a-6fa8c1caba17"
   },
   "outputs": [],
   "source": [
    "# compare original loaded video and the saved video\n",
    "\n",
    "saved_vid = imageio.mimread(\"saved_video.mp4\")\n",
    "np.allclose(glottis_video, saved_vid)"
   ]
  },
  {
   "cell_type": "code",
   "execution_count": null,
   "id": "cef41089231cfd",
   "metadata": {},
   "outputs": [],
   "source": [
    "# If needed\n",
    "#!pip install flammkuchen"
   ]
  },
  {
   "cell_type": "code",
   "execution_count": null,
   "id": "cd362d26",
   "metadata": {
    "ExecuteTime": {
     "end_time": "2023-11-15T14:30:01.888506Z",
     "start_time": "2023-11-15T14:30:01.648655200Z"
    },
    "id": "cd362d26"
   },
   "outputs": [],
   "source": [
    "# Flammkuchen\n",
    "import flammkuchen as fl\n",
    "\n",
    "d = {\n",
    "    'tabular': pd.DataFrame(np.random.random((20,40))), # random tabular data\n",
    "     'videos': np.random.randint(0, 256, (30, 256, 256, 3)).astype(np.uint8), # random video\n",
    "     'json': dict(name='John Doe', age=32, gender=\"d\") # random meta data\n",
    "}\n",
    "\n",
    "fl.save(\"my_hdf5_file.h5\", d)"
   ]
  },
  {
   "cell_type": "code",
   "execution_count": null,
   "id": "4089c8ec",
   "metadata": {
    "ExecuteTime": {
     "end_time": "2023-11-15T14:30:03.902278Z",
     "start_time": "2023-11-15T14:30:03.863601200Z"
    },
    "id": "4089c8ec",
    "outputId": "f7144593-3979-47b0-cbdb-2410a77366a6"
   },
   "outputs": [],
   "source": [
    "fl.meta(\"my_hdf5_file.h5\")"
   ]
  },
  {
   "cell_type": "code",
   "execution_count": null,
   "id": "1c98b628",
   "metadata": {
    "ExecuteTime": {
     "end_time": "2023-11-15T14:30:06.591845200Z",
     "start_time": "2023-11-15T14:30:06.549746200Z"
    },
    "id": "1c98b628",
    "outputId": "66d843c6-33a5-443e-992e-b52dd9ddea9c"
   },
   "outputs": [],
   "source": [
    "random_video = fl.load(\"my_hdf5_file.h5\", \"/videos\")\n",
    "random_video.shape"
   ]
  },
  {
   "cell_type": "code",
   "execution_count": null,
   "id": "27a0c423",
   "metadata": {
    "ExecuteTime": {
     "end_time": "2023-11-15T14:30:09.096127300Z",
     "start_time": "2023-11-15T14:30:08.987499100Z"
    },
    "id": "27a0c423",
    "outputId": "1160ca8a-1fc4-4602-dd89-aee13cdaa729"
   },
   "outputs": [],
   "source": [
    "# And only a portion of the video, e.g. only the red channel of the first 5 frames\n",
    "r_first_5_frames = fl.load(\"my_hdf5_file.h5\", \"/videos\", sel=fl.aslice[:5, ..., 0])\n",
    "r_first_5_frames.shape"
   ]
  },
  {
   "cell_type": "code",
   "execution_count": null,
   "id": "5820da64",
   "metadata": {
    "id": "5820da64"
   },
   "outputs": [],
   "source": []
  }
 ],
 "metadata": {
  "colab": {
   "collapsed_sections": [
    "b8fabdee",
    "22c98c7e"
   ],
   "provenance": []
  },
  "kernelspec": {
   "display_name": "Python 3 (ipykernel)",
   "language": "python",
   "name": "python3"
  },
  "language_info": {
   "codemirror_mode": {
    "name": "ipython",
    "version": 3
   },
   "file_extension": ".py",
   "mimetype": "text/x-python",
   "name": "python",
   "nbconvert_exporter": "python",
   "pygments_lexer": "ipython3",
   "version": "3.8.18"
  }
 },
 "nbformat": 4,
 "nbformat_minor": 5
}
